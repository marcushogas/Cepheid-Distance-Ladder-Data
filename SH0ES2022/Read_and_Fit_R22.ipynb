{
 "cells": [
  {
   "cell_type": "code",
   "execution_count": 1,
   "metadata": {},
   "outputs": [],
   "source": [
    "### In this notebook, we load the R22 data files and make a linear fit ###\n"
   ]
  },
  {
   "cell_type": "code",
   "execution_count": 2,
   "metadata": {},
   "outputs": [],
   "source": [
    "import numpy as np\n",
    "from scipy import linalg\n"
   ]
  },
  {
   "cell_type": "code",
   "execution_count": 29,
   "metadata": {},
   "outputs": [],
   "source": [
    "### Import data files ### (Assuming that they are located in the same diretory as the notebook)\n",
    "\n",
    "# y: data vector\n",
    "names = ('Source', 'Data')\n",
    "fmt = ('S20', np.float32)\n",
    "y_data = np.loadtxt('./y_R22.txt', unpack=True, skiprows=1, dtype = {'names': names, 'formats': fmt})\n",
    "\n",
    "y_source = y_data[0] # sources\n",
    "y_source = y_source.astype(str) # convert from byte string to string\n",
    "\n",
    "y = y_data[1] # data vector\n",
    "\n",
    "# C: covariance matrix\n",
    "C = np.loadtxt('./C_R22.txt', delimiter='\\t')\n",
    "Cinv = linalg.inv(C)\n",
    "\n",
    "# L: design matrix\n",
    "L = np.loadtxt('./L_R22.txt', delimiter='\\t')\n",
    "\n",
    "# q: parameter vecor\n",
    "q = np.loadtxt('./q_R22.txt', unpack=True, dtype = 'str')\n"
   ]
  },
  {
   "cell_type": "code",
   "execution_count": 37,
   "metadata": {},
   "outputs": [
    {
     "name": "stdout",
     "output_type": "stream",
     "text": [
      "-------Linear fit-------\n",
      "mu_M101 = 29.160 +- 0.039\n",
      "mu_M1337 = 32.916 +- 0.082\n",
      "mu_N0691 = 32.822 +- 0.088\n",
      "mu_N1015 = 32.618 +- 0.060\n",
      "mu_N105A = 34.493 +- 0.119\n",
      "mu_N1309 = 32.509 +- 0.051\n",
      "mu_N1365 = 31.325 +- 0.050\n",
      "mu_N1448 = 31.295 +- 0.036\n",
      "mu_N1559 = 31.461 +- 0.052\n",
      "mu_N2442 = 31.465 +- 0.055\n",
      "mu_N2525 = 32.011 +- 0.061\n",
      "mu_N2608 = 32.628 +- 0.115\n",
      "mu_N3021 = 32.392 +- 0.097\n",
      "mu_N3147 = 33.091 +- 0.085\n",
      "mu_N3254 = 32.403 +- 0.056\n",
      "mu_N3370 = 32.142 +- 0.046\n",
      "mu_N3447 = 31.944 +- 0.033\n",
      "mu_N3583 = 32.790 +- 0.063\n",
      "mu_N3972 = 31.707 +- 0.068\n",
      "mu_N3982 = 31.638 +- 0.056\n",
      "mu_N4038 = 31.634 +- 0.080\n",
      "mu_N4424 = 30.824 +- 0.108\n",
      "mu_N4536 = 30.835 +- 0.048\n",
      "mu_N4639 = 31.787 +- 0.071\n",
      "mu_N4680 = 32.547 +- 0.147\n",
      "mu_N5468 = 33.187 +- 0.049\n",
      "mu_N5584 = 31.866 +- 0.045\n",
      "mu_N5643 = 30.508 +- 0.042\n",
      "mu_N5728 = 32.916 +- 0.103\n",
      "mu_N5861 = 32.205 +- 0.076\n",
      "mu_N5917 = 32.337 +- 0.077\n",
      "mu_N7250 = 31.606 +- 0.103\n",
      "mu_N7329 = 33.269 +- 0.070\n",
      "mu_N7541 = 32.580 +- 0.084\n",
      "mu_N7678 = 33.267 +- 0.083\n",
      "mu_N976A = 33.544 +- 0.082\n",
      "mu_U9391 = 32.816 +- 0.054\n",
      "mu_N4258 = 29.385 +- 0.022\n",
      "MHW1 = -5.894 +- 0.018\n",
      "mu_LMC = 18.487 +- 0.019\n",
      "mu_M31 = 24.371 +- 0.069\n",
      "bW = -3.299 +- 0.015\n",
      "MB = -19.253 +- 0.029\n",
      "ZW = -0.217 +- 0.045\n",
      "Delta_zp = -0.074 +- 0.011\n",
      "5logH0 = 9.318 +- 0.030\n",
      "\n",
      "\n",
      "H0 = 73.04 +- 1.01\n"
     ]
    }
   ],
   "source": [
    "### Linear fit ###\n",
    "\n",
    "qSol = linalg.inv(L.T @ Cinv @ L) @ (L.T @ Cinv @ y)\n",
    "err_qSol = np.sqrt(np.diag(linalg.inv( L.T @ Cinv @ L )))\n",
    "\n",
    "print('-------Linear fit-------')\n",
    "for param, num1, num2 in zip(q, qSol, err_qSol):\n",
    "    print(param + \" = \" + \"%.3f\" % num1 + \" +- \" + \"%.3f\" % num2)\n",
    "\n",
    "# H0\n",
    "ind_5logH0 = np.where(q == '5logH0')[0]\n",
    "solH0 = 10.**( qSol[ind_5logH0] / 5. )\n",
    "err_solH0 = np.log(10.) / 5. * err_qSol[ind_5logH0] * 10.**( qSol[ind_5logH0] / 5. )\n",
    "    \n",
    "print(\"\\n\\nH0 = \" + \"%.2f\" % solH0 + \" +- \" + \"%.2f\" % err_solH0)\n"
   ]
  },
  {
   "cell_type": "code",
   "execution_count": null,
   "metadata": {},
   "outputs": [],
   "source": []
  }
 ],
 "metadata": {
  "kernelspec": {
   "display_name": "Python 3",
   "language": "python",
   "name": "python3"
  },
  "language_info": {
   "codemirror_mode": {
    "name": "ipython",
    "version": 3
   },
   "file_extension": ".py",
   "mimetype": "text/x-python",
   "name": "python",
   "nbconvert_exporter": "python",
   "pygments_lexer": "ipython3",
   "version": "3.8.8"
  }
 },
 "nbformat": 4,
 "nbformat_minor": 4
}
